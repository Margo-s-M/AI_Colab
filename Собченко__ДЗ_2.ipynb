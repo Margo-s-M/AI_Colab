{
  "nbformat": 4,
  "nbformat_minor": 0,
  "metadata": {
    "colab": {
      "provenance": [],
      "include_colab_link": true
    },
    "kernelspec": {
      "name": "python3",
      "display_name": "Python 3"
    },
    "language_info": {
      "name": "python"
    }
  },
  "cells": [
    {
      "cell_type": "markdown",
      "metadata": {
        "id": "view-in-github",
        "colab_type": "text"
      },
      "source": [
        "<a href=\"https://colab.research.google.com/github/Margo-s-M/AI_Colab/blob/main/%D0%A1%D0%BE%D0%B1%D1%87%D0%B5%D0%BD%D0%BA%D0%BE__%D0%94%D0%97_2.ipynb\" target=\"_parent\"><img src=\"https://colab.research.google.com/assets/colab-badge.svg\" alt=\"Open In Colab\"/></a>"
      ]
    },
    {
      "cell_type": "markdown",
      "source": [
        "Імпортуйте модуль numpy"
      ],
      "metadata": {
        "id": "tk2sNnUDkXK9"
      }
    },
    {
      "cell_type": "code",
      "source": [
        "import numpy as np"
      ],
      "metadata": {
        "id": "1QbCsQ62kUmZ"
      },
      "execution_count": null,
      "outputs": []
    },
    {
      "cell_type": "markdown",
      "source": [
        "#Завдання 1\n",
        "\n",
        "Створіть масив з парними числами між 30 і 70"
      ],
      "metadata": {
        "id": "ZVC4Yb3JZFO1"
      }
    },
    {
      "cell_type": "code",
      "source": [
        "even_num = np.arange(30,70,2)\n",
        "print(even_num)\n"
      ],
      "metadata": {
        "id": "aunm4Jm_hUkL",
        "outputId": "e693fe05-2766-4264-cab4-9cb149341033",
        "colab": {
          "base_uri": "https://localhost:8080/"
        }
      },
      "execution_count": null,
      "outputs": [
        {
          "output_type": "stream",
          "name": "stdout",
          "text": [
            "[30 32 34 36 38 40 42 44 46 48 50 52 54 56 58 60 62 64 66 68]\n"
          ]
        }
      ]
    },
    {
      "cell_type": "code",
      "source": [],
      "metadata": {
        "id": "V1_73-JUSF4w"
      },
      "execution_count": null,
      "outputs": []
    },
    {
      "cell_type": "markdown",
      "source": [
        "#Завдання 2\n",
        "Створіть масив з 10 числами між 0(включно) та 1(не включно) див документацію np.linspace"
      ],
      "metadata": {
        "id": "UDSLr3f0b31r"
      }
    },
    {
      "cell_type": "code",
      "source": [
        "linspace_num = np.linspace(0,1,10,endpoint=False)\n",
        "print(linspace_num)"
      ],
      "metadata": {
        "id": "w7iNkGd_hUM-",
        "outputId": "16a30ebd-3286-4b0e-b946-7b0553b632ba",
        "colab": {
          "base_uri": "https://localhost:8080/"
        }
      },
      "execution_count": null,
      "outputs": [
        {
          "output_type": "stream",
          "name": "stdout",
          "text": [
            "[0.  0.1 0.2 0.3 0.4 0.5 0.6 0.7 0.8 0.9]\n"
          ]
        }
      ]
    },
    {
      "cell_type": "markdown",
      "source": [
        "#Завдання 4\n",
        "Напишіть функцію яка приймає матрицю розміру nxn та повертає матрицю розміру (n+2) x (n+2), на краях якої розміщенні 0."
      ],
      "metadata": {
        "id": "rtWKmLWhYi_j"
      }
    },
    {
      "cell_type": "code",
      "source": [
        "import numpy as np\n",
        "\n",
        "def padding(matrix):\n",
        "    n = matrix.shape[0]\n",
        "\n",
        "    new_shape = (n+2, n+2)\n",
        "    res_matrix = np.zeros(new_shape, dtype=matrix.dtype)\n",
        "\n",
        "    res_matrix[1:-1, 1:-1] = matrix\n",
        "\n",
        "    return res_matrix\n",
        "\n",
        "\n",
        "\n",
        "matrix = np.array([\n",
        "                [1, 2],\n",
        "                [3, 4]])\n",
        "\n",
        "\n",
        "padding(matrix)"
      ],
      "metadata": {
        "id": "mU7vjsnqhVfk",
        "colab": {
          "base_uri": "https://localhost:8080/"
        },
        "outputId": "228baf00-5855-44b6-b470-c313e6ba5bca"
      },
      "execution_count": null,
      "outputs": [
        {
          "output_type": "execute_result",
          "data": {
            "text/plain": [
              "array([[0, 0, 0, 0],\n",
              "       [0, 1, 2, 0],\n",
              "       [0, 3, 4, 0],\n",
              "       [0, 0, 0, 0]])"
            ]
          },
          "metadata": {},
          "execution_count": 8
        }
      ]
    },
    {
      "cell_type": "markdown",
      "source": [
        "#Завдання 5\n",
        "У попередьньому масиві змініть тип даних. Виведіть тип даних до та після зміни"
      ],
      "metadata": {
        "id": "ok_hMAEJa9oh"
      }
    },
    {
      "cell_type": "code",
      "source": [],
      "metadata": {
        "id": "vYlj3r3ShV98"
      },
      "execution_count": null,
      "outputs": []
    },
    {
      "cell_type": "markdown",
      "source": [
        "#Завдання 6\n",
        "У даному масиві замініть елементи, які дорівнюють\\більші\\менші за var на -1"
      ],
      "metadata": {
        "id": "aR7TWyqgZUDg"
      }
    },
    {
      "cell_type": "code",
      "source": [
        "x = np.array([1, 5, 3, 8, 6, 5, 7, 4])\n",
        "var = 5"
      ],
      "metadata": {
        "id": "oPzL69Fbg2Wq"
      },
      "execution_count": 29,
      "outputs": []
    },
    {
      "cell_type": "code",
      "source": [
        "x[x==var]= -1\n",
        "print(x)\n"
      ],
      "metadata": {
        "colab": {
          "base_uri": "https://localhost:8080/"
        },
        "id": "UL1ilOy8DNNg",
        "outputId": "a2d3fec2-5701-4839-a135-48ca9892aada"
      },
      "execution_count": 30,
      "outputs": [
        {
          "output_type": "stream",
          "name": "stdout",
          "text": [
            "[ 1 -1  3  8  6 -1  7  4]\n"
          ]
        }
      ]
    },
    {
      "cell_type": "code",
      "source": [
        "x = np.array([1, 5, 3, 8, 6, 5, 7, 4])\n",
        "var = 5"
      ],
      "metadata": {
        "id": "Q4BlaB95DHXx"
      },
      "execution_count": 31,
      "outputs": []
    },
    {
      "cell_type": "code",
      "source": [
        "x[ x < var] = -1\n",
        "print(x)"
      ],
      "metadata": {
        "id": "mgfGF5bOBkgQ",
        "colab": {
          "base_uri": "https://localhost:8080/"
        },
        "outputId": "34e70dae-c7ca-4bf2-a91a-8673dcc568ef"
      },
      "execution_count": 28,
      "outputs": [
        {
          "output_type": "stream",
          "name": "stdout",
          "text": [
            "[-1  5 -1  8  6  5  7 -1]\n"
          ]
        }
      ]
    },
    {
      "cell_type": "code",
      "source": [
        "x = np.array([1, 5, 3, 8, 6, 5, 7, 4])\n",
        "var = 5"
      ],
      "metadata": {
        "id": "X1JtOFpyzqSC"
      },
      "execution_count": null,
      "outputs": []
    },
    {
      "cell_type": "code",
      "source": [
        "x[x > var ]= -1\n",
        "print(x)"
      ],
      "metadata": {
        "id": "KVLZ0UorzuP5",
        "colab": {
          "base_uri": "https://localhost:8080/"
        },
        "outputId": "e1610386-76b1-4fc5-ec3b-e808224d16cb"
      },
      "execution_count": 33,
      "outputs": [
        {
          "output_type": "stream",
          "name": "stdout",
          "text": [
            "[ 1  5  3 -1 -1  5 -1  4]\n"
          ]
        }
      ]
    },
    {
      "cell_type": "markdown",
      "source": [
        "#Завдання 7\n",
        "Замініть пропущені значення матриці(np.nan) на -1\n",
        "\n",
        "Дивись np.isnan"
      ],
      "metadata": {
        "id": "Ks3Rtc7kajMJ"
      }
    },
    {
      "cell_type": "code",
      "source": [
        "X = np.array([[1, 2, np.nan, 4],\n",
        "              [5, np.nan, np.nan, 4],\n",
        "              [np.nan, 10, 11, np.nan]])"
      ],
      "metadata": {
        "id": "Rr8CdINEg3Rj"
      },
      "execution_count": null,
      "outputs": []
    },
    {
      "cell_type": "markdown",
      "source": [
        "#Завдання 8\n",
        "Створіть матрицю розміру 4х6 з випадковими числами. Змініть її розмір на 3х8"
      ],
      "metadata": {
        "id": "teYwjikMa0gs"
      }
    },
    {
      "cell_type": "code",
      "source": [
        "x = np.random.randint(0,50, size=(4,6))\n",
        "x"
      ],
      "metadata": {
        "id": "JhNvUJwxhXED",
        "colab": {
          "base_uri": "https://localhost:8080/"
        },
        "outputId": "969e0bc1-694e-44cd-f26a-4e603a5c4aab"
      },
      "execution_count": null,
      "outputs": [
        {
          "output_type": "execute_result",
          "data": {
            "text/plain": [
              "array([[49, 22, 34, 36, 14, 38],\n",
              "       [28, 35,  1,  9, 36,  1],\n",
              "       [41, 21, 43, 46,  3, 37],\n",
              "       [15, 38,  5,  3, 36, 25]])"
            ]
          },
          "metadata": {},
          "execution_count": 11
        }
      ]
    },
    {
      "cell_type": "code",
      "source": [
        "x.reshape(3,8)"
      ],
      "metadata": {
        "colab": {
          "base_uri": "https://localhost:8080/"
        },
        "id": "CHv0c_osXFdg",
        "outputId": "bc811eec-2243-4e7e-ecea-d0e949da45e3"
      },
      "execution_count": null,
      "outputs": [
        {
          "output_type": "execute_result",
          "data": {
            "text/plain": [
              "array([[49, 22, 34, 36, 14, 38, 28, 35],\n",
              "       [ 1,  9, 36,  1, 41, 21, 43, 46],\n",
              "       [ 3, 37, 15, 38,  5,  3, 36, 25]])"
            ]
          },
          "metadata": {},
          "execution_count": 12
        }
      ]
    },
    {
      "cell_type": "markdown",
      "source": [
        "#Завдання 9\n",
        "Створіть випадкову матрицю розміром 3х4. Знайдіть середнє арифметичне(mean) кожного стовпчика"
      ],
      "metadata": {
        "id": "jVE8280acszi"
      }
    },
    {
      "cell_type": "code",
      "source": [
        "x = np.random.randint(0,50, size=(3,4))\n",
        "x\n",
        "\n",
        "\n",
        "\n"
      ],
      "metadata": {
        "id": "5QI6HPNHhXd4",
        "outputId": "edfa3a60-3cf9-4ec2-a8e2-a163cb81c2a3",
        "colab": {
          "base_uri": "https://localhost:8080/"
        }
      },
      "execution_count": null,
      "outputs": [
        {
          "output_type": "execute_result",
          "data": {
            "text/plain": [
              "array([[47, 37, 36, 26],\n",
              "       [29, 18, 32, 42],\n",
              "       [20, 24, 33, 15]])"
            ]
          },
          "metadata": {},
          "execution_count": 13
        }
      ]
    },
    {
      "cell_type": "code",
      "source": [
        "col_mean = np.mean(x,axis=0)\n",
        "col_mean"
      ],
      "metadata": {
        "colab": {
          "base_uri": "https://localhost:8080/"
        },
        "id": "CFp6MLlsagT-",
        "outputId": "4b1048e1-5c22-447f-afa0-ef5ba77e9b50"
      },
      "execution_count": null,
      "outputs": [
        {
          "output_type": "execute_result",
          "data": {
            "text/plain": [
              "array([32.        , 26.33333333, 33.66666667, 27.66666667])"
            ]
          },
          "metadata": {},
          "execution_count": 14
        }
      ]
    },
    {
      "cell_type": "markdown",
      "source": [
        "#Завдання 10\n",
        "Є матриця з ймовірностями того, що зображення(рядки) належить певному класу(стовпчики). Для кожного зображення(рядка) знайдіть індекс класу(стовпчика) з найбільшою ймовірністю"
      ],
      "metadata": {
        "id": "nK6LwLjfc9aC"
      }
    },
    {
      "cell_type": "code",
      "source": [
        "x = np.array([[0.2 , 0.3 , 0.23, 0.07, 0.03, 0.17],\n",
        "              [0.15, 0.06, 0.21, 0.12, 0.24, 0.24],\n",
        "              [0.1 , 0.21, 0.03, 0.07, 0.31, 0.28],\n",
        "              [0.21, 0.24, 0.03, 0.18, 0.12, 0.21],\n",
        "              [0.19, 0.25, 0.25, 0.06, 0.12, 0.12]])"
      ],
      "metadata": {
        "id": "pERBNp12hX58"
      },
      "execution_count": null,
      "outputs": []
    },
    {
      "cell_type": "markdown",
      "source": [
        "Пояснення: в першому рядку найбільша ймовірність -- 0.3 під індексом 1\n",
        "\n",
        "в другому рядку -- 0.24 під індексом 4\n",
        "\n",
        "в третьому рядку -- 0.31 під індексом 4\n",
        "\n",
        "в четвертому рядку -- 0.24 під індексом 1\n",
        "\n",
        "в п'ятому рядку -- 0.25 під індексом 1(там є ще одне 0.25, але ми беремо те що з меншим індексом)\n"
      ],
      "metadata": {
        "id": "9aarGgUP2TaX"
      }
    },
    {
      "cell_type": "markdown",
      "source": [
        "#Завдання 11\n",
        "В даній матриці знайдіть всі елементи зі значенням між 3 і 6\n",
        "\n",
        "Дивись документацію np.logical_and"
      ],
      "metadata": {
        "id": "faCqq4bxiXsg"
      }
    },
    {
      "cell_type": "code",
      "source": [
        "X = np.array([[1, 2, 3, 4, 5],\n",
        "              [6, 7, 8, 9, 10],\n",
        "              [9, 8, 7, 6, 5],\n",
        "              [4, 3, 2, 1, 0]])\n",
        "log = X[np.logical_and(X >=3, X <=6)]\n",
        "log"
      ],
      "metadata": {
        "id": "01ZY_c-tilOF",
        "colab": {
          "base_uri": "https://localhost:8080/"
        },
        "outputId": "c940e4b4-1edd-46b0-9ede-bfdbbc9efd9b"
      },
      "execution_count": null,
      "outputs": [
        {
          "output_type": "execute_result",
          "data": {
            "text/plain": [
              "array([3, 4, 5, 6, 6, 5, 4, 3])"
            ]
          },
          "metadata": {},
          "execution_count": 16
        }
      ]
    },
    {
      "cell_type": "markdown",
      "source": [
        "#Завдання 12\n",
        "Створіть випадкову матрицю розміру 5х6. Нормалізуйте стовпчики: від кожного елемента ставпчика відніміть мінімальне значення та поділіть результат на різницю між максимальним та мінімальним елементом цього стовпчика.\n",
        "\n",
        "Після цього всі значення мають бути в межах [0, 1]"
      ],
      "metadata": {
        "id": "cCZSaa3DMKxb"
      }
    },
    {
      "cell_type": "code",
      "source": [],
      "metadata": {
        "id": "qnOYOAgOMqRi"
      },
      "execution_count": null,
      "outputs": []
    },
    {
      "cell_type": "code",
      "source": [],
      "metadata": {
        "id": "d60tOdfg0vn2"
      },
      "execution_count": null,
      "outputs": []
    }
  ]
}