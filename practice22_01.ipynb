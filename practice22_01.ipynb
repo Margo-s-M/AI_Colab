{
  "nbformat": 4,
  "nbformat_minor": 0,
  "metadata": {
    "colab": {
      "provenance": [],
      "authorship_tag": "ABX9TyNK0LhcBRQbtVfBG/5NYLBt",
      "include_colab_link": true
    },
    "kernelspec": {
      "name": "python3",
      "display_name": "Python 3"
    },
    "language_info": {
      "name": "python"
    }
  },
  "cells": [
    {
      "cell_type": "markdown",
      "metadata": {
        "id": "view-in-github",
        "colab_type": "text"
      },
      "source": [
        "<a href=\"https://colab.research.google.com/github/Margo-s-M/AI_Colab/blob/main/practice22_01.ipynb\" target=\"_parent\"><img src=\"https://colab.research.google.com/assets/colab-badge.svg\" alt=\"Open In Colab\"/></a>"
      ]
    },
    {
      "cell_type": "code",
      "execution_count": null,
      "metadata": {
        "colab": {
          "base_uri": "https://localhost:8080/"
        },
        "id": "8YQ-a1Erijsm",
        "outputId": "034e7527-0ba1-4576-ae4c-17bace6df20b"
      },
      "outputs": [
        {
          "output_type": "stream",
          "name": "stdout",
          "text": [
            "3\n"
          ]
        }
      ],
      "source": [
        "a = 1\n",
        "b = 2\n",
        "print(a+b)\n"
      ]
    },
    {
      "cell_type": "code",
      "source": [
        "text = \"Hello world\"\n",
        "print(len(text))"
      ],
      "metadata": {
        "colab": {
          "base_uri": "https://localhost:8080/"
        },
        "id": "0HDKiBgZmTWV",
        "outputId": "2034f791-8975-4447-e1c4-98a62bfee452"
      },
      "execution_count": null,
      "outputs": [
        {
          "output_type": "stream",
          "name": "stdout",
          "text": [
            "11\n"
          ]
        }
      ]
    },
    {
      "cell_type": "code",
      "source": [
        "print(a,b)"
      ],
      "metadata": {
        "colab": {
          "base_uri": "https://localhost:8080/"
        },
        "id": "Rb2OlpqdmhP2",
        "outputId": "1718342f-bdff-4ddc-a179-658cd1f9443f"
      },
      "execution_count": null,
      "outputs": [
        {
          "output_type": "stream",
          "name": "stdout",
          "text": [
            "1 2\n"
          ]
        }
      ]
    },
    {
      "cell_type": "code",
      "source": [],
      "metadata": {
        "id": "2urAk-zNmoml"
      },
      "execution_count": null,
      "outputs": []
    },
    {
      "cell_type": "markdown",
      "source": [
        "Попереду дуже багато цікаваго."
      ],
      "metadata": {
        "id": "YOiu6_JUmute"
      }
    },
    {
      "cell_type": "code",
      "source": [],
      "metadata": {
        "id": "pbg5JPPZm2gF"
      },
      "execution_count": null,
      "outputs": []
    },
    {
      "cell_type": "markdown",
      "source": [
        "Перше заняття з ШІ 22.01.2025\n"
      ],
      "metadata": {
        "id": "B3BXQNWam4tt"
      }
    },
    {
      "cell_type": "markdown",
      "source": [],
      "metadata": {
        "id": "WV0wC-np7ORW"
      }
    },
    {
      "cell_type": "code",
      "source": [],
      "metadata": {
        "id": "mtGcmO_XnAMU"
      },
      "execution_count": null,
      "outputs": []
    },
    {
      "cell_type": "markdown",
      "source": [
        "27.01.2025  numpy\n"
      ],
      "metadata": {
        "id": "viSDbY7THfcF"
      }
    },
    {
      "cell_type": "code",
      "source": [
        "import numpy as np\n",
        "\n",
        "\n",
        "\n",
        "a = np.array([1,2,3])\n",
        "print(type(a)), a.shape , a[0],a[1],a[2]\n",
        "a[1] *=2\n",
        "print(a)"
      ],
      "metadata": {
        "id": "6ccoc0eurn-p",
        "colab": {
          "base_uri": "https://localhost:8080/"
        },
        "outputId": "a4814149-6270-483a-91ff-2f484d02225b"
      },
      "execution_count": 2,
      "outputs": [
        {
          "output_type": "stream",
          "name": "stdout",
          "text": [
            "<class 'numpy.ndarray'>\n",
            "[1 4 3]\n"
          ]
        }
      ]
    },
    {
      "cell_type": "markdown",
      "source": [
        "Масив-  numpy — це сітка однотипних значень. Кожен елемент індексується декількома числами, в залежності від розмірності масиву."
      ],
      "metadata": {
        "id": "R5eSs9LbqtZ7"
      }
    },
    {
      "cell_type": "code",
      "source": [
        "a=np.array([[1,2],[3,4]])\n",
        "print(a)"
      ],
      "metadata": {
        "colab": {
          "base_uri": "https://localhost:8080/"
        },
        "id": "DtFpDwUdqqgz",
        "outputId": "c0016625-95cc-4fd0-9ef5-afbe12dfdf15"
      },
      "execution_count": null,
      "outputs": [
        {
          "output_type": "stream",
          "name": "stdout",
          "text": [
            "[[1 2]\n",
            " [3 4]]\n"
          ]
        }
      ]
    },
    {
      "cell_type": "markdown",
      "source": [],
      "metadata": {
        "id": "jbqjk70Sq7gL"
      }
    },
    {
      "cell_type": "code",
      "source": [
        "np.ones((3,2))"
      ],
      "metadata": {
        "colab": {
          "base_uri": "https://localhost:8080/"
        },
        "id": "qrTgZW-vr_5b",
        "outputId": "1004eb26-60ea-4dc3-ce3c-b9ff262357be"
      },
      "execution_count": null,
      "outputs": [
        {
          "output_type": "execute_result",
          "data": {
            "text/plain": [
              "array([[1., 1.],\n",
              "       [1., 1.],\n",
              "       [1., 1.]])"
            ]
          },
          "metadata": {},
          "execution_count": 13
        }
      ]
    },
    {
      "cell_type": "code",
      "source": [],
      "metadata": {
        "id": "bTSqqsv76tn1"
      },
      "execution_count": null,
      "outputs": []
    },
    {
      "cell_type": "code",
      "source": [
        "np.zeros(3)"
      ],
      "metadata": {
        "colab": {
          "base_uri": "https://localhost:8080/"
        },
        "id": "O-d2sj9CsG_7",
        "outputId": "5e73f255-3a7b-47c3-e882-14b283bac32f"
      },
      "execution_count": null,
      "outputs": [
        {
          "output_type": "execute_result",
          "data": {
            "text/plain": [
              "array([0., 0., 0.])"
            ]
          },
          "metadata": {},
          "execution_count": 8
        }
      ]
    },
    {
      "cell_type": "code",
      "source": [
        "np.random.random(3)"
      ],
      "metadata": {
        "colab": {
          "base_uri": "https://localhost:8080/"
        },
        "id": "so08U_b6sMK7",
        "outputId": "87272872-b681-470e-98ca-49b730ac174b"
      },
      "execution_count": null,
      "outputs": [
        {
          "output_type": "execute_result",
          "data": {
            "text/plain": [
              "array([0.56445392, 0.70697092, 0.53455116])"
            ]
          },
          "metadata": {},
          "execution_count": 11
        }
      ]
    },
    {
      "cell_type": "code",
      "source": [
        "b = np.array([[1,2,3,4],[5,6,7,8],[9,10,11,12]])\n",
        "print(b)\n",
        "a=b[0:2, 1:3]\n",
        "print()\n",
        "print(a)"
      ],
      "metadata": {
        "colab": {
          "base_uri": "https://localhost:8080/"
        },
        "id": "Ng5sIroMtEyb",
        "outputId": "6362f5bb-ee11-4a1d-bf1d-b2f65cfccd9e"
      },
      "execution_count": null,
      "outputs": [
        {
          "output_type": "stream",
          "name": "stdout",
          "text": [
            "[[ 1  2  3  4]\n",
            " [ 5  6  7  8]\n",
            " [ 9 10 11 12]]\n",
            "\n",
            "[[2 3]\n",
            " [6 7]]\n"
          ]
        }
      ]
    },
    {
      "cell_type": "code",
      "source": [
        "x= np.array([[-1,2],[3,4]],dtype=np.float64)\n",
        "y= np.array([[5,6],[0,8]], dtype=np.float64)\n",
        "print(x+y)\n",
        "print(np.add(x,y))"
      ],
      "metadata": {
        "colab": {
          "base_uri": "https://localhost:8080/"
        },
        "id": "-874uE3ZvbO7",
        "outputId": "1a86aa65-a2b3-405b-faf1-38578973b871"
      },
      "execution_count": null,
      "outputs": [
        {
          "output_type": "stream",
          "name": "stdout",
          "text": [
            "[[ 4.  8.]\n",
            " [ 3. 12.]]\n",
            "[[ 4.  8.]\n",
            " [ 3. 12.]]\n"
          ]
        }
      ]
    },
    {
      "cell_type": "code",
      "source": [
        "x"
      ],
      "metadata": {
        "colab": {
          "base_uri": "https://localhost:8080/"
        },
        "id": "9y3UbOp_nnb4",
        "outputId": "3c902a3c-847d-449f-8116-589369909658"
      },
      "execution_count": null,
      "outputs": [
        {
          "output_type": "execute_result",
          "data": {
            "text/plain": [
              "array([[-1.,  2.],\n",
              "       [ 3.,  4.]])"
            ]
          },
          "metadata": {},
          "execution_count": 8
        }
      ]
    },
    {
      "cell_type": "code",
      "source": [
        "y"
      ],
      "metadata": {
        "colab": {
          "base_uri": "https://localhost:8080/"
        },
        "id": "p1KIFw6RoAfw",
        "outputId": "9dbdb572-d96d-4fd7-ebfc-1b65e9b8ece2"
      },
      "execution_count": null,
      "outputs": [
        {
          "output_type": "execute_result",
          "data": {
            "text/plain": [
              "array([[5., 6.],\n",
              "       [0., 8.]])"
            ]
          },
          "metadata": {},
          "execution_count": 9
        }
      ]
    },
    {
      "cell_type": "code",
      "source": [
        "x+y"
      ],
      "metadata": {
        "colab": {
          "base_uri": "https://localhost:8080/"
        },
        "id": "YH6DZ0_4oCSI",
        "outputId": "49552f67-4e1f-4bcd-ea2b-70211e4ee1c7"
      },
      "execution_count": null,
      "outputs": [
        {
          "output_type": "execute_result",
          "data": {
            "text/plain": [
              "array([[ 4.,  8.],\n",
              "       [ 3., 12.]])"
            ]
          },
          "metadata": {},
          "execution_count": 11
        }
      ]
    },
    {
      "cell_type": "code",
      "source": [
        "x = np.random.randint(0,10, size=(4,3))\n",
        "x"
      ],
      "metadata": {
        "colab": {
          "base_uri": "https://localhost:8080/"
        },
        "id": "xnFvEihAxzPe",
        "outputId": "324dac78-f933-4d2e-e853-fa022c1ff7d1"
      },
      "execution_count": 5,
      "outputs": [
        {
          "output_type": "execute_result",
          "data": {
            "text/plain": [
              "array([[5, 2, 1],\n",
              "       [6, 5, 8],\n",
              "       [7, 4, 4],\n",
              "       [5, 7, 6]])"
            ]
          },
          "metadata": {},
          "execution_count": 5
        }
      ]
    },
    {
      "cell_type": "code",
      "source": [],
      "metadata": {
        "id": "Jm90ytReyOFl"
      },
      "execution_count": null,
      "outputs": []
    },
    {
      "cell_type": "code",
      "source": [
        "x.max(axis=1)"
      ],
      "metadata": {
        "colab": {
          "base_uri": "https://localhost:8080/"
        },
        "id": "x9nZPEflyciP",
        "outputId": "f3e3081b-abb7-46b2-b7cd-e273801c6ab4"
      },
      "execution_count": 7,
      "outputs": [
        {
          "output_type": "execute_result",
          "data": {
            "text/plain": [
              "array([5, 8, 7, 7])"
            ]
          },
          "metadata": {},
          "execution_count": 7
        }
      ]
    },
    {
      "cell_type": "code",
      "source": [
        "x.max(axis=0)"
      ],
      "metadata": {
        "colab": {
          "base_uri": "https://localhost:8080/"
        },
        "id": "ABdPZ9p301vG",
        "outputId": "97b4c1f3-55ca-44b0-efcd-9d7d10510e9f"
      },
      "execution_count": 11,
      "outputs": [
        {
          "output_type": "execute_result",
          "data": {
            "text/plain": [
              "array([7, 7, 8])"
            ]
          },
          "metadata": {},
          "execution_count": 11
        }
      ]
    },
    {
      "cell_type": "code",
      "source": [
        "x.min(axis=0)"
      ],
      "metadata": {
        "colab": {
          "base_uri": "https://localhost:8080/"
        },
        "id": "n_9VSigH1cVF",
        "outputId": "67718816-d166-4005-df62-136c52fa8cc6"
      },
      "execution_count": 13,
      "outputs": [
        {
          "output_type": "execute_result",
          "data": {
            "text/plain": [
              "array([5, 2, 1])"
            ]
          },
          "metadata": {},
          "execution_count": 13
        }
      ]
    },
    {
      "cell_type": "code",
      "source": [
        "x.argmin(axis=0)"
      ],
      "metadata": {
        "colab": {
          "base_uri": "https://localhost:8080/"
        },
        "id": "bkv2gnLl1ym3",
        "outputId": "9dd158ad-1236-4268-f0fe-8a421ecd6bda"
      },
      "execution_count": 14,
      "outputs": [
        {
          "output_type": "execute_result",
          "data": {
            "text/plain": [
              "array([0, 0, 0])"
            ]
          },
          "metadata": {},
          "execution_count": 14
        }
      ]
    },
    {
      "cell_type": "code",
      "source": [
        "x"
      ],
      "metadata": {
        "colab": {
          "base_uri": "https://localhost:8080/"
        },
        "id": "i_6SV8t_2i59",
        "outputId": "5a63f5a5-af2a-46dc-d6a6-739181c6a1f9"
      },
      "execution_count": 18,
      "outputs": [
        {
          "output_type": "execute_result",
          "data": {
            "text/plain": [
              "array([[5, 2, 1],\n",
              "       [6, 5, 8],\n",
              "       [7, 4, 4],\n",
              "       [5, 7, 6]])"
            ]
          },
          "metadata": {},
          "execution_count": 18
        }
      ]
    },
    {
      "cell_type": "code",
      "source": [
        "x.mean(axis=1)"
      ],
      "metadata": {
        "colab": {
          "base_uri": "https://localhost:8080/"
        },
        "id": "JGCfhG8u2pVN",
        "outputId": "0d38c036-2c7e-4498-932c-411f65626bea"
      },
      "execution_count": 19,
      "outputs": [
        {
          "output_type": "execute_result",
          "data": {
            "text/plain": [
              "array([2.66666667, 6.33333333, 5.        , 6.        ])"
            ]
          },
          "metadata": {},
          "execution_count": 19
        }
      ]
    },
    {
      "cell_type": "code",
      "source": [
        "col_sum = x.sum(axis=0)\n",
        "col_sum\n",
        "x / col_sum"
      ],
      "metadata": {
        "colab": {
          "base_uri": "https://localhost:8080/"
        },
        "id": "7TMa0Bes23OO",
        "outputId": "5252e9d5-0deb-4a96-e2a0-fabdbac7d7de"
      },
      "execution_count": 21,
      "outputs": [
        {
          "output_type": "execute_result",
          "data": {
            "text/plain": [
              "array([[0.2173913 , 0.11111111, 0.05263158],\n",
              "       [0.26086957, 0.27777778, 0.42105263],\n",
              "       [0.30434783, 0.22222222, 0.21052632],\n",
              "       [0.2173913 , 0.38888889, 0.31578947]])"
            ]
          },
          "metadata": {},
          "execution_count": 21
        }
      ]
    },
    {
      "cell_type": "code",
      "source": [
        "row_sum = x.sum(axis=1, keepdims=True)\n",
        "x / row_sum"
      ],
      "metadata": {
        "colab": {
          "base_uri": "https://localhost:8080/"
        },
        "id": "ee2ddL4q3htl",
        "outputId": "0e32b6c4-434f-420d-e7ed-409208c70a7c"
      },
      "execution_count": 22,
      "outputs": [
        {
          "output_type": "execute_result",
          "data": {
            "text/plain": [
              "array([[0.625     , 0.25      , 0.125     ],\n",
              "       [0.31578947, 0.26315789, 0.42105263],\n",
              "       [0.46666667, 0.26666667, 0.26666667],\n",
              "       [0.27777778, 0.38888889, 0.33333333]])"
            ]
          },
          "metadata": {},
          "execution_count": 22
        }
      ]
    },
    {
      "cell_type": "code",
      "source": [
        "row_sum.shape"
      ],
      "metadata": {
        "colab": {
          "base_uri": "https://localhost:8080/"
        },
        "id": "vV8RVNYX5rxl",
        "outputId": "4127fedc-9807-4b85-8eca-ee05962fd407"
      },
      "execution_count": 23,
      "outputs": [
        {
          "output_type": "execute_result",
          "data": {
            "text/plain": [
              "(4, 1)"
            ]
          },
          "metadata": {},
          "execution_count": 23
        }
      ]
    },
    {
      "cell_type": "code",
      "source": [
        "row_sum"
      ],
      "metadata": {
        "colab": {
          "base_uri": "https://localhost:8080/"
        },
        "id": "GZtiD-7A6GF9",
        "outputId": "84af599f-ac0a-4e94-99b6-764db9cba9a5"
      },
      "execution_count": 25,
      "outputs": [
        {
          "output_type": "execute_result",
          "data": {
            "text/plain": [
              "array([[ 8],\n",
              "       [19],\n",
              "       [15],\n",
              "       [18]])"
            ]
          },
          "metadata": {},
          "execution_count": 25
        }
      ]
    },
    {
      "cell_type": "code",
      "source": [
        "x.sum(axis=1, keepdims= False)"
      ],
      "metadata": {
        "colab": {
          "base_uri": "https://localhost:8080/"
        },
        "id": "Fr32BSA_57CM",
        "outputId": "4e6b7202-be71-4769-a66f-44500a44caa8"
      },
      "execution_count": 24,
      "outputs": [
        {
          "output_type": "execute_result",
          "data": {
            "text/plain": [
              "array([ 8, 19, 15, 18])"
            ]
          },
          "metadata": {},
          "execution_count": 24
        }
      ]
    }
  ]
}