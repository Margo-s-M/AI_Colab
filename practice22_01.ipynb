{
  "nbformat": 4,
  "nbformat_minor": 0,
  "metadata": {
    "colab": {
      "provenance": [],
      "authorship_tag": "ABX9TyMscY5fHU+kP/+ZzlE9w9ZQ",
      "include_colab_link": true
    },
    "kernelspec": {
      "name": "python3",
      "display_name": "Python 3"
    },
    "language_info": {
      "name": "python"
    }
  },
  "cells": [
    {
      "cell_type": "markdown",
      "metadata": {
        "id": "view-in-github",
        "colab_type": "text"
      },
      "source": [
        "<a href=\"https://colab.research.google.com/github/Margo-s-M/AI_Colab/blob/main/practice22_01.ipynb\" target=\"_parent\"><img src=\"https://colab.research.google.com/assets/colab-badge.svg\" alt=\"Open In Colab\"/></a>"
      ]
    },
    {
      "cell_type": "code",
      "execution_count": 1,
      "metadata": {
        "colab": {
          "base_uri": "https://localhost:8080/"
        },
        "id": "8YQ-a1Erijsm",
        "outputId": "034e7527-0ba1-4576-ae4c-17bace6df20b"
      },
      "outputs": [
        {
          "output_type": "stream",
          "name": "stdout",
          "text": [
            "3\n"
          ]
        }
      ],
      "source": [
        "a = 1\n",
        "b = 2\n",
        "print(a+b)\n"
      ]
    },
    {
      "cell_type": "code",
      "source": [
        "text = \"Hello world\"\n",
        "print(len(text))"
      ],
      "metadata": {
        "colab": {
          "base_uri": "https://localhost:8080/"
        },
        "id": "0HDKiBgZmTWV",
        "outputId": "2034f791-8975-4447-e1c4-98a62bfee452"
      },
      "execution_count": 3,
      "outputs": [
        {
          "output_type": "stream",
          "name": "stdout",
          "text": [
            "11\n"
          ]
        }
      ]
    },
    {
      "cell_type": "code",
      "source": [
        "print(a,b)"
      ],
      "metadata": {
        "colab": {
          "base_uri": "https://localhost:8080/"
        },
        "id": "Rb2OlpqdmhP2",
        "outputId": "1718342f-bdff-4ddc-a179-658cd1f9443f"
      },
      "execution_count": 4,
      "outputs": [
        {
          "output_type": "stream",
          "name": "stdout",
          "text": [
            "1 2\n"
          ]
        }
      ]
    },
    {
      "cell_type": "code",
      "source": [],
      "metadata": {
        "id": "2urAk-zNmoml"
      },
      "execution_count": null,
      "outputs": []
    },
    {
      "cell_type": "markdown",
      "source": [
        "Попереду дуже багато цікаваго."
      ],
      "metadata": {
        "id": "YOiu6_JUmute"
      }
    },
    {
      "cell_type": "code",
      "source": [],
      "metadata": {
        "id": "pbg5JPPZm2gF"
      },
      "execution_count": null,
      "outputs": []
    },
    {
      "cell_type": "markdown",
      "source": [
        "Перше заняття з ШІ 22.01.2025\n"
      ],
      "metadata": {
        "id": "B3BXQNWam4tt"
      }
    },
    {
      "cell_type": "code",
      "source": [],
      "metadata": {
        "id": "mtGcmO_XnAMU"
      },
      "execution_count": null,
      "outputs": []
    }
  ]
}